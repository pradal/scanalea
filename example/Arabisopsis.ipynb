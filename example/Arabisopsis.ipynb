{
 "metadata": {
  "name": "",
  "signature": "sha256:02dda38b941ab743448ac7c6342ca38aa46ab8e056d3db46a57f65af136f87fe"
 },
 "nbformat": 3,
 "nbformat_minor": 0,
 "worksheets": [
  {
   "cells": [
    {
     "cell_type": "heading",
     "level": 1,
     "metadata": {},
     "source": [
      "Model-based analysis of Arabidopsis"
     ]
    },
    {
     "cell_type": "markdown",
     "metadata": {},
     "source": [
      "    This is the first draft at implementing an image analysis pipeline for arabidopsis using an underlying mathematical    \n",
      "    description of arabidopsis development."
     ]
    },
    {
     "cell_type": "heading",
     "level": 2,
     "metadata": {},
     "source": [
      "Reconstruction of the development of Arabidopsis based on measured data"
     ]
    },
    {
     "cell_type": "code",
     "collapsed": false,
     "input": [
      "# Notebook specific instructions\n",
      "%matplotlib inline\n",
      "%gui qt\n",
      "import pylab\n",
      "from vpltkdisplay import *"
     ],
     "language": "python",
     "metadata": {},
     "outputs": [
      {
       "output_type": "stream",
       "stream": "stderr",
       "text": [
        "ERROR - 13:16:00 - Cannot load rhizoscan_wralea.root.tracking : No module named tracking - /Users/pradal/devlp/openalea/core/src/core/pkgmanager.py - 252\n"
       ]
      }
     ],
     "prompt_number": 1
    },
    {
     "cell_type": "markdown",
     "metadata": {},
     "source": [
      "** Import Arabidopsis functions to read the data and reconstructe the architecture through time **"
     ]
    },
    {
     "cell_type": "code",
     "collapsed": false,
     "input": [
      "from arabido import data, plant3d"
     ],
     "language": "python",
     "metadata": {},
     "outputs": [
      {
       "output_type": "stream",
       "stream": "stderr",
       "text": [
        "/opt/local/Library/Frameworks/Python.framework/Versions/2.7/lib/python2.7/site-packages/matplotlib/cbook.py:122: MatplotlibDeprecationWarning: The matplotlib.mpl module was deprecated in version 1.3. Use `import matplotlib as mpl` instead.\n",
        "  warnings.warn(message, mplDeprecation, stacklevel=1)\n"
       ]
      }
     ],
     "prompt_number": 2
    },
    {
     "cell_type": "markdown",
     "metadata": {},
     "source": [
      "  - **Read** the data originted for Karine Chenu PhD.\n",
      "  - Put it into the **dataframe**."
     ]
    },
    {
     "cell_type": "code",
     "collapsed": false,
     "input": [
      "fn = '../share/Arabido.txt'\n",
      "df = data.read(fn)"
     ],
     "language": "python",
     "metadata": {},
     "outputs": [],
     "prompt_number": 3
    },
    {
     "cell_type": "heading",
     "level": 2,
     "metadata": {},
     "source": [
      "1. Data exploration"
     ]
    },
    {
     "cell_type": "heading",
     "level": 3,
     "metadata": {},
     "source": [
      "Plot the dataframe"
     ]
    },
    {
     "cell_type": "code",
     "collapsed": false,
     "input": [
      "df"
     ],
     "language": "python",
     "metadata": {},
     "outputs": [
      {
       "html": [
        "<div style=\"max-height:1000px;max-width:1500px;overflow:auto;\">\n",
        "<table border=\"1\" class=\"dataframe\">\n",
        "  <thead>\n",
        "    <tr style=\"text-align: right;\">\n",
        "      <th></th>\n",
        "      <th>plant</th>\n",
        "      <th>phy</th>\n",
        "      <th>init_time</th>\n",
        "      <th>surface_P1</th>\n",
        "      <th>surface_P2</th>\n",
        "      <th>surface_Vm</th>\n",
        "      <th>R_limbe</th>\n",
        "      <th>a_length</th>\n",
        "      <th>b_length</th>\n",
        "      <th>c_length</th>\n",
        "    </tr>\n",
        "  </thead>\n",
        "  <tbody>\n",
        "    <tr>\n",
        "      <th>0 </th>\n",
        "      <td> 1</td>\n",
        "      <td>  1</td>\n",
        "      <td>   1.000000</td>\n",
        "      <td>   6.8</td>\n",
        "      <td>  64</td>\n",
        "      <td> 0.04</td>\n",
        "      <td> 1.00</td>\n",
        "      <td>-8.486</td>\n",
        "      <td> 12.371</td>\n",
        "      <td> 0.082</td>\n",
        "    </tr>\n",
        "    <tr>\n",
        "      <th>1 </th>\n",
        "      <td> 1</td>\n",
        "      <td>  2</td>\n",
        "      <td>   2.000000</td>\n",
        "      <td>   6.7</td>\n",
        "      <td>  66</td>\n",
        "      <td> 0.04</td>\n",
        "      <td> 1.00</td>\n",
        "      <td>-8.486</td>\n",
        "      <td> 12.371</td>\n",
        "      <td> 0.082</td>\n",
        "    </tr>\n",
        "    <tr>\n",
        "      <th>2 </th>\n",
        "      <td> 1</td>\n",
        "      <td>  3</td>\n",
        "      <td>   3.000000</td>\n",
        "      <td>  39.5</td>\n",
        "      <td> 139</td>\n",
        "      <td> 0.40</td>\n",
        "      <td> 0.86</td>\n",
        "      <td>-8.486</td>\n",
        "      <td> 12.371</td>\n",
        "      <td> 0.082</td>\n",
        "    </tr>\n",
        "    <tr>\n",
        "      <th>3 </th>\n",
        "      <td> 1</td>\n",
        "      <td>  4</td>\n",
        "      <td>   4.985533</td>\n",
        "      <td>  41.9</td>\n",
        "      <td> 144</td>\n",
        "      <td> 0.45</td>\n",
        "      <td> 0.85</td>\n",
        "      <td>-8.486</td>\n",
        "      <td> 12.371</td>\n",
        "      <td> 0.082</td>\n",
        "    </tr>\n",
        "    <tr>\n",
        "      <th>4 </th>\n",
        "      <td> 1</td>\n",
        "      <td>  5</td>\n",
        "      <td>  32.005847</td>\n",
        "      <td>  80.3</td>\n",
        "      <td> 198</td>\n",
        "      <td> 0.80</td>\n",
        "      <td> 0.70</td>\n",
        "      <td>-8.486</td>\n",
        "      <td> 12.371</td>\n",
        "      <td> 0.082</td>\n",
        "    </tr>\n",
        "    <tr>\n",
        "      <th>5 </th>\n",
        "      <td> 1</td>\n",
        "      <td>  6</td>\n",
        "      <td>  48.059550</td>\n",
        "      <td>  94.6</td>\n",
        "      <td> 208</td>\n",
        "      <td> 0.85</td>\n",
        "      <td> 0.66</td>\n",
        "      <td>-8.486</td>\n",
        "      <td> 12.371</td>\n",
        "      <td> 0.082</td>\n",
        "    </tr>\n",
        "    <tr>\n",
        "      <th>6 </th>\n",
        "      <td> 1</td>\n",
        "      <td>  7</td>\n",
        "      <td>  66.077706</td>\n",
        "      <td> 125.9</td>\n",
        "      <td> 217</td>\n",
        "      <td> 1.10</td>\n",
        "      <td> 0.66</td>\n",
        "      <td>-8.486</td>\n",
        "      <td> 12.371</td>\n",
        "      <td> 0.082</td>\n",
        "    </tr>\n",
        "    <tr>\n",
        "      <th>7 </th>\n",
        "      <td> 1</td>\n",
        "      <td>  8</td>\n",
        "      <td>  91.396695</td>\n",
        "      <td> 159.9</td>\n",
        "      <td> 223</td>\n",
        "      <td> 1.10</td>\n",
        "      <td> 0.57</td>\n",
        "      <td>-8.486</td>\n",
        "      <td> 12.371</td>\n",
        "      <td> 0.082</td>\n",
        "    </tr>\n",
        "    <tr>\n",
        "      <th>8 </th>\n",
        "      <td> 1</td>\n",
        "      <td>  9</td>\n",
        "      <td> 109.897694</td>\n",
        "      <td> 168.0</td>\n",
        "      <td> 229</td>\n",
        "      <td> 1.28</td>\n",
        "      <td> 0.51</td>\n",
        "      <td>-8.486</td>\n",
        "      <td> 12.371</td>\n",
        "      <td> 0.082</td>\n",
        "    </tr>\n",
        "    <tr>\n",
        "      <th>9 </th>\n",
        "      <td> 1</td>\n",
        "      <td> 10</td>\n",
        "      <td> 118.823492</td>\n",
        "      <td> 222.5</td>\n",
        "      <td> 243</td>\n",
        "      <td> 1.55</td>\n",
        "      <td> 0.49</td>\n",
        "      <td>-8.486</td>\n",
        "      <td> 12.371</td>\n",
        "      <td> 0.082</td>\n",
        "    </tr>\n",
        "    <tr>\n",
        "      <th>10</th>\n",
        "      <td> 1</td>\n",
        "      <td> 11</td>\n",
        "      <td> 126.077596</td>\n",
        "      <td> 226.6</td>\n",
        "      <td> 234</td>\n",
        "      <td> 2.13</td>\n",
        "      <td> 0.46</td>\n",
        "      <td>-8.486</td>\n",
        "      <td> 12.371</td>\n",
        "      <td> 0.082</td>\n",
        "    </tr>\n",
        "    <tr>\n",
        "      <th>11</th>\n",
        "      <td> 1</td>\n",
        "      <td> 12</td>\n",
        "      <td> 140.961047</td>\n",
        "      <td> 246.2</td>\n",
        "      <td> 247</td>\n",
        "      <td> 2.23</td>\n",
        "      <td> 0.47</td>\n",
        "      <td>-8.486</td>\n",
        "      <td> 12.371</td>\n",
        "      <td> 0.082</td>\n",
        "    </tr>\n",
        "    <tr>\n",
        "      <th>12</th>\n",
        "      <td> 2</td>\n",
        "      <td>  1</td>\n",
        "      <td>   1.000000</td>\n",
        "      <td>   2.5</td>\n",
        "      <td>  62</td>\n",
        "      <td> 0.02</td>\n",
        "      <td> 0.88</td>\n",
        "      <td> 0.102</td>\n",
        "      <td>  0.975</td>\n",
        "      <td> 0.569</td>\n",
        "    </tr>\n",
        "    <tr>\n",
        "      <th>13</th>\n",
        "      <td> 2</td>\n",
        "      <td>  2</td>\n",
        "      <td>   2.000000</td>\n",
        "      <td>   2.9</td>\n",
        "      <td>  85</td>\n",
        "      <td> 0.02</td>\n",
        "      <td> 0.85</td>\n",
        "      <td> 0.102</td>\n",
        "      <td>  0.975</td>\n",
        "      <td> 0.569</td>\n",
        "    </tr>\n",
        "    <tr>\n",
        "      <th>14</th>\n",
        "      <td> 2</td>\n",
        "      <td>  3</td>\n",
        "      <td>  10.235898</td>\n",
        "      <td>  18.9</td>\n",
        "      <td> 266</td>\n",
        "      <td> 0.13</td>\n",
        "      <td> 0.92</td>\n",
        "      <td>-0.842</td>\n",
        "      <td>  2.999</td>\n",
        "      <td> 0.265</td>\n",
        "    </tr>\n",
        "    <tr>\n",
        "      <th>15</th>\n",
        "      <td> 2</td>\n",
        "      <td>  4</td>\n",
        "      <td>  20.391927</td>\n",
        "      <td>  18.9</td>\n",
        "      <td> 266</td>\n",
        "      <td> 0.13</td>\n",
        "      <td> 0.89</td>\n",
        "      <td>-0.289</td>\n",
        "      <td>  1.952</td>\n",
        "      <td> 0.386</td>\n",
        "    </tr>\n",
        "    <tr>\n",
        "      <th>16</th>\n",
        "      <td> 2</td>\n",
        "      <td>  5</td>\n",
        "      <td>  85.580637</td>\n",
        "      <td>  41.0</td>\n",
        "      <td> 423</td>\n",
        "      <td> 0.20</td>\n",
        "      <td> 0.72</td>\n",
        "      <td>-0.575</td>\n",
        "      <td>  2.594</td>\n",
        "      <td> 0.314</td>\n",
        "    </tr>\n",
        "    <tr>\n",
        "      <th>17</th>\n",
        "      <td> 2</td>\n",
        "      <td>  6</td>\n",
        "      <td>  92.769147</td>\n",
        "      <td>  51.7</td>\n",
        "      <td> 462</td>\n",
        "      <td> 0.27</td>\n",
        "      <td> 0.60</td>\n",
        "      <td>-1.080</td>\n",
        "      <td>  3.338</td>\n",
        "      <td> 0.248</td>\n",
        "    </tr>\n",
        "    <tr>\n",
        "      <th>18</th>\n",
        "      <td> 2</td>\n",
        "      <td>  7</td>\n",
        "      <td>  98.204005</td>\n",
        "      <td>  72.0</td>\n",
        "      <td> 490</td>\n",
        "      <td> 0.45</td>\n",
        "      <td> 0.57</td>\n",
        "      <td>-0.518</td>\n",
        "      <td>  2.217</td>\n",
        "      <td> 0.312</td>\n",
        "    </tr>\n",
        "    <tr>\n",
        "      <th>19</th>\n",
        "      <td> 2</td>\n",
        "      <td>  8</td>\n",
        "      <td>  99.463520</td>\n",
        "      <td>  83.4</td>\n",
        "      <td> 508</td>\n",
        "      <td> 0.44</td>\n",
        "      <td> 0.53</td>\n",
        "      <td>-0.703</td>\n",
        "      <td>  1.220</td>\n",
        "      <td> 0.409</td>\n",
        "    </tr>\n",
        "    <tr>\n",
        "      <th>20</th>\n",
        "      <td> 2</td>\n",
        "      <td>  9</td>\n",
        "      <td> 143.696304</td>\n",
        "      <td>  96.6</td>\n",
        "      <td> 514</td>\n",
        "      <td> 0.50</td>\n",
        "      <td> 0.44</td>\n",
        "      <td>-0.206</td>\n",
        "      <td>  1.009</td>\n",
        "      <td> 0.434</td>\n",
        "    </tr>\n",
        "    <tr>\n",
        "      <th>21</th>\n",
        "      <td> 2</td>\n",
        "      <td> 10</td>\n",
        "      <td> 171.776561</td>\n",
        "      <td>  95.9</td>\n",
        "      <td> 478</td>\n",
        "      <td> 0.80</td>\n",
        "      <td> 0.40</td>\n",
        "      <td> 0.043</td>\n",
        "      <td>  0.449</td>\n",
        "      <td> 0.552</td>\n",
        "    </tr>\n",
        "    <tr>\n",
        "      <th>22</th>\n",
        "      <td> 2</td>\n",
        "      <td> 11</td>\n",
        "      <td> 185.375720</td>\n",
        "      <td>  90.9</td>\n",
        "      <td> 502</td>\n",
        "      <td> 0.84</td>\n",
        "      <td> 0.36</td>\n",
        "      <td>-0.116</td>\n",
        "      <td>  0.802</td>\n",
        "      <td> 0.387</td>\n",
        "    </tr>\n",
        "    <tr>\n",
        "      <th>23</th>\n",
        "      <td> 2</td>\n",
        "      <td> 12</td>\n",
        "      <td> 238.920873</td>\n",
        "      <td>  98.5</td>\n",
        "      <td> 480</td>\n",
        "      <td> 0.65</td>\n",
        "      <td> 0.29</td>\n",
        "      <td>-0.013</td>\n",
        "      <td>  0.401</td>\n",
        "      <td> 0.453</td>\n",
        "    </tr>\n",
        "  </tbody>\n",
        "</table>\n",
        "<p>24 rows \u00d7 10 columns</p>\n",
        "</div>"
       ],
       "metadata": {},
       "output_type": "pyout",
       "prompt_number": 4,
       "text": [
        "    plant  phy   init_time  surface_P1  surface_P2  surface_Vm  R_limbe  \\\n",
        "0       1    1    1.000000         6.8          64        0.04     1.00   \n",
        "1       1    2    2.000000         6.7          66        0.04     1.00   \n",
        "2       1    3    3.000000        39.5         139        0.40     0.86   \n",
        "3       1    4    4.985533        41.9         144        0.45     0.85   \n",
        "4       1    5   32.005847        80.3         198        0.80     0.70   \n",
        "5       1    6   48.059550        94.6         208        0.85     0.66   \n",
        "6       1    7   66.077706       125.9         217        1.10     0.66   \n",
        "7       1    8   91.396695       159.9         223        1.10     0.57   \n",
        "8       1    9  109.897694       168.0         229        1.28     0.51   \n",
        "9       1   10  118.823492       222.5         243        1.55     0.49   \n",
        "10      1   11  126.077596       226.6         234        2.13     0.46   \n",
        "11      1   12  140.961047       246.2         247        2.23     0.47   \n",
        "12      2    1    1.000000         2.5          62        0.02     0.88   \n",
        "13      2    2    2.000000         2.9          85        0.02     0.85   \n",
        "14      2    3   10.235898        18.9         266        0.13     0.92   \n",
        "15      2    4   20.391927        18.9         266        0.13     0.89   \n",
        "16      2    5   85.580637        41.0         423        0.20     0.72   \n",
        "17      2    6   92.769147        51.7         462        0.27     0.60   \n",
        "18      2    7   98.204005        72.0         490        0.45     0.57   \n",
        "19      2    8   99.463520        83.4         508        0.44     0.53   \n",
        "20      2    9  143.696304        96.6         514        0.50     0.44   \n",
        "21      2   10  171.776561        95.9         478        0.80     0.40   \n",
        "22      2   11  185.375720        90.9         502        0.84     0.36   \n",
        "23      2   12  238.920873        98.5         480        0.65     0.29   \n",
        "\n",
        "    a_length  b_length  c_length  \n",
        "0     -8.486    12.371     0.082  \n",
        "1     -8.486    12.371     0.082  \n",
        "2     -8.486    12.371     0.082  \n",
        "3     -8.486    12.371     0.082  \n",
        "4     -8.486    12.371     0.082  \n",
        "5     -8.486    12.371     0.082  \n",
        "6     -8.486    12.371     0.082  \n",
        "7     -8.486    12.371     0.082  \n",
        "8     -8.486    12.371     0.082  \n",
        "9     -8.486    12.371     0.082  \n",
        "10    -8.486    12.371     0.082  \n",
        "11    -8.486    12.371     0.082  \n",
        "12     0.102     0.975     0.569  \n",
        "13     0.102     0.975     0.569  \n",
        "14    -0.842     2.999     0.265  \n",
        "15    -0.289     1.952     0.386  \n",
        "16    -0.575     2.594     0.314  \n",
        "17    -1.080     3.338     0.248  \n",
        "18    -0.518     2.217     0.312  \n",
        "19    -0.703     1.220     0.409  \n",
        "20    -0.206     1.009     0.434  \n",
        "21     0.043     0.449     0.552  \n",
        "22    -0.116     0.802     0.387  \n",
        "23    -0.013     0.401     0.453  \n",
        "\n",
        "[24 rows x 10 columns]"
       ]
      }
     ],
     "prompt_number": 4
    },
    {
     "cell_type": "heading",
     "level": 3,
     "metadata": {},
     "source": [
      "Plot the number of phytomer as a function of thermal time"
     ]
    },
    {
     "cell_type": "code",
     "collapsed": false,
     "input": [
      "dfg = df.groupby('plant')\n",
      "dfg.plot(x='init_time', y='phy')"
     ],
     "language": "python",
     "metadata": {},
     "outputs": [
      {
       "metadata": {},
       "output_type": "pyout",
       "prompt_number": 5,
       "text": [
        "plant\n",
        "1        Axes(0.125,0.125;0.775x0.775)\n",
        "2        Axes(0.125,0.125;0.775x0.775)\n",
        "dtype: object"
       ]
      },
      {
       "metadata": {},
       "output_type": "display_data",
       "png": "[encoded data removed]",
       "text": [
        "<matplotlib.figure.Figure at 0x1106628d0>"
       ]
      }
     ],
     "prompt_number": 5
    },
    {
     "cell_type": "heading",
     "level": 3,
     "metadata": {},
     "source": [
      "Plot surface area Phytomer number 1 over thermal time"
     ]
    },
    {
     "cell_type": "code",
     "collapsed": false,
     "input": [
      "import numpy as np\n",
      "import pandas as pd\n",
      "tt = pd.DataFrame(df[df['plant']==1].init_time)\n",
      "#tt = tt.values\n",
      "# first row \n",
      "row = df.ix[1, 'init_time':'surface_Vm']\n",
      "tt0, p1, p2, Vm = row\n",
      "fun = p1/(1+np.exp(4.*Vm*(p2+tt0-tt))/p1)\n",
      "\n",
      "tt['surface']=fun\n",
      "tt.plot(x='init_time', y='surface', title='Phytomer 1')"
     ],
     "language": "python",
     "metadata": {},
     "outputs": [
      {
       "metadata": {},
       "output_type": "pyout",
       "prompt_number": 6,
       "text": [
        "<matplotlib.axes.AxesSubplot at 0x11068f990>"
       ]
      },
      {
       "metadata": {},
       "output_type": "display_data",
       "png": "[encoded data removed]",
       "text": [
        "<matplotlib.figure.Figure at 0x110690e90>"
       ]
      }
     ],
     "prompt_number": 6
    },
    {
     "cell_type": "heading",
     "level": 2,
     "metadata": {},
     "source": [
      "2. MTG reconstruction (i.e. a graph representing the plant architecture across time)"
     ]
    },
    {
     "cell_type": "heading",
     "level": 3,
     "metadata": {},
     "source": [
      "Convert the Dataframe into a n MTG representing the topology with parameters as properties"
     ]
    },
    {
     "cell_type": "code",
     "collapsed": false,
     "input": [
      "g = plant3d.dynamic_mtg(df)\n",
      "g.display()"
     ],
     "language": "python",
     "metadata": {},
     "outputs": [
      {
       "output_type": "stream",
       "stream": "stdout",
       "text": [
        "MTG : nb_vertices=99, nb_scales=4\n",
        "/Plant1\t\t\t(id=1)\t\t\t\t\t\t\t\t\t\t\t\n",
        "^/Phytomer1\t\t\t(id=2)\t\t\t\t\t\t\t\t\t\t\t\n",
        "^/Internode1\t\t\t(id=3)\t\t\t\t\t\t\t\t\t\t\t\n",
        "\t+Petiole1\t\t\t(id=4)\t\t\t\t\t\t\t\t\t\t\n",
        "\t^<Lamina1\t\t\t(id=5)\t\t\t\t\t\t\t\t\t\t\n",
        "^<Phytomer2\t\t\t(id=6)\t\t\t\t\t\t\t\t\t\t\t\n",
        "^/Internode2\t\t\t(id=7)\t\t\t\t\t\t\t\t\t\t\t\n",
        "\t+Petiole2\t\t\t(id=8)\t\t\t\t\t\t\t\t\t\t\n",
        "\t^<Lamina2\t\t\t(id=9)\t\t\t\t\t\t\t\t\t\t\n",
        "^<Phytomer3\t\t\t(id=10)\t\t\t\t\t\t\t\t\t\t\t\n",
        "^/Internode3\t\t\t(id=11)\t\t\t\t\t\t\t\t\t\t\t\n",
        "\t+Petiole3\t\t\t(id=12)\t\t\t\t\t\t\t\t\t\t\n",
        "\t^<Lamina3\t\t\t(id=13)\t\t\t\t\t\t\t\t\t\t\n",
        "^<Phytomer4\t\t\t(id=14)\t\t\t\t\t\t\t\t\t\t\t\n",
        "^/Internode4\t\t\t(id=15)\t\t\t\t\t\t\t\t\t\t\t\n",
        "\t+Petiole4\t\t\t(id=16)\t\t\t\t\t\t\t\t\t\t\n",
        "\t^<Lamina4\t\t\t(id=17)\t\t\t\t\t\t\t\t\t\t\n",
        "^<Phytomer5\t\t\t(id=18)\t\t\t\t\t\t\t\t\t\t\t\n",
        "^/Internode5\t\t\t(id=19)\t\t\t\t\t\t\t\t\t\t\t\n",
        "\t+Petiole5\t\t\t(id=20)\t\t\t\t\t\t\t\t\t\t\n",
        "\t^<Lamina5\t\t\t(id=21)\t\t\t\t\t\t\t\t\t\t\n",
        "^<Phytomer6\t\t\t(id=22)\t\t\t\t\t\t\t\t\t\t\t\n",
        "^/Internode6\t\t\t(id=23)\t\t\t\t\t\t\t\t\t\t\t\n",
        "\t+Petiole6\t\t\t(id=24)\t\t\t\t\t\t\t\t\t\t\n",
        "\t^<Lamina6\t\t\t(id=25)\t\t\t\t\t\t\t\t\t\t\n",
        "^<Phytomer7\t\t\t(id=26)\t\t\t\t\t\t\t\t\t\t\t\n",
        "^/Internode7\t\t\t(id=27)\t\t\t\t\t\t\t\t\t\t\t\n",
        "\t+Petiole7\t\t\t(id=28)\t\t\t\t\t\t\t\t\t\t\n",
        "\t^<Lamina7\t\t\t(id=29)\t\t\t\t\t\t\t\t\t\t\n",
        "^<Phytomer8\t\t\t(id=30)\t\t\t\t\t\t\t\t\t\t\t\n",
        "^/Internode8\t\t\t(id=31)\t\t\t\t\t\t\t\t\t\t\t\n",
        "\t+Petiole8\t\t\t(id=32)\t\t\t\t\t\t\t\t\t\t\n",
        "\t^<Lamina8\t\t\t(id=33)\t\t\t\t\t\t\t\t\t\t\n",
        "^<Phytomer9\t\t\t(id=34)\t\t\t\t\t\t\t\t\t\t\t\n",
        "^/Internode9\t\t\t(id=35)\t\t\t\t\t\t\t\t\t\t\t\n",
        "\t+Petiole9\t\t\t(id=36)\t\t\t\t\t\t\t\t\t\t\n",
        "\t^<Lamina9\t\t\t(id=37)\t\t\t\t\t\t\t\t\t\t\n",
        "^<Phytomer10\t\t\t(id=38)\t\t\t\t\t\t\t\t\t\t\t\n",
        "^/Internode10\t\t\t(id=39)\t\t\t\t\t\t\t\t\t\t\t\n",
        "\t+Petiole10\t\t\t(id=40)\t\t\t\t\t\t\t\t\t\t\n",
        "\t^<Lamina10\t\t\t(id=41)\t\t\t\t\t\t\t\t\t\t\n",
        "^<Phytomer11\t\t\t(id=42)\t\t\t\t\t\t\t\t\t\t\t\n",
        "^/Internode11\t\t\t(id=43)\t\t\t\t\t\t\t\t\t\t\t\n",
        "\t+Petiole11\t\t\t(id=44)\t\t\t\t\t\t\t\t\t\t\n",
        "\t^<Lamina11\t\t\t(id=45)\t\t\t\t\t\t\t\t\t\t\n",
        "^<Phytomer12\t\t\t(id=46)\t\t\t\t\t\t\t\t\t\t\t\n",
        "^/Internode12\t\t\t(id=47)\t\t\t\t\t\t\t\t\t\t\t\n",
        "\t+Petiole12\t\t\t(id=48)\t\t\t\t\t\t\t\t\t\t\n",
        "\t^<Lamina12\t\t\t(id=49)\t\t\t\t\t\t\t\t\t\t\n",
        "/Plant2\t\t\t(id=50)\t\t\t\t\t\t\t\t\t\t\t\n",
        "^/Phytomer1\t\t\t(id=51)\t\t\t\t\t\t\t\t\t\t\t\n",
        "^/Internode1\t\t\t(id=52)\t\t\t\t\t\t\t\t\t\t\t\n",
        "\t+Petiole1\t\t\t(id=53)\t\t\t\t\t\t\t\t\t\t\n",
        "\t^<Lamina1\t\t\t(id=54)\t\t\t\t\t\t\t\t\t\t\n",
        "^<Phytomer2\t\t\t(id=55)\t\t\t\t\t\t\t\t\t\t\t\n",
        "^/Internode2\t\t\t(id=56)\t\t\t\t\t\t\t\t\t\t\t\n",
        "\t+Petiole2\t\t\t(id=57)\t\t\t\t\t\t\t\t\t\t\n",
        "\t^<Lamina2\t\t\t(id=58)\t\t\t\t\t\t\t\t\t\t\n",
        "^<Phytomer3\t\t\t(id=59)\t\t\t\t\t\t\t\t\t\t\t\n",
        "^/Internode3\t\t\t(id=60)\t\t\t\t\t\t\t\t\t\t\t\n",
        "\t+Petiole3\t\t\t(id=61)\t\t\t\t\t\t\t\t\t\t\n",
        "\t^<Lamina3\t\t\t(id=62)\t\t\t\t\t\t\t\t\t\t\n",
        "^<Phytomer4\t\t\t(id=63)\t\t\t\t\t\t\t\t\t\t\t\n",
        "^/Internode4\t\t\t(id=64)\t\t\t\t\t\t\t\t\t\t\t\n",
        "\t+Petiole4\t\t\t(id=65)\t\t\t\t\t\t\t\t\t\t\n",
        "\t^<Lamina4\t\t\t(id=66)\t\t\t\t\t\t\t\t\t\t\n",
        "^<Phytomer5\t\t\t(id=67)\t\t\t\t\t\t\t\t\t\t\t\n",
        "^/Internode5\t\t\t(id=68)\t\t\t\t\t\t\t\t\t\t\t\n",
        "\t+Petiole5\t\t\t(id=69)\t\t\t\t\t\t\t\t\t\t\n",
        "\t^<Lamina5\t\t\t(id=70)\t\t\t\t\t\t\t\t\t\t\n",
        "^<Phytomer6\t\t\t(id=71)\t\t\t\t\t\t\t\t\t\t\t\n",
        "^/Internode6\t\t\t(id=72)\t\t\t\t\t\t\t\t\t\t\t\n",
        "\t+Petiole6\t\t\t(id=73)\t\t\t\t\t\t\t\t\t\t\n",
        "\t^<Lamina6\t\t\t(id=74)\t\t\t\t\t\t\t\t\t\t\n",
        "^<Phytomer7\t\t\t(id=75)\t\t\t\t\t\t\t\t\t\t\t\n",
        "^/Internode7\t\t\t(id=76)\t\t\t\t\t\t\t\t\t\t\t\n",
        "\t+Petiole7\t\t\t(id=77)\t\t\t\t\t\t\t\t\t\t\n",
        "\t^<Lamina7\t\t\t(id=78)\t\t\t\t\t\t\t\t\t\t\n",
        "^<Phytomer8\t\t\t(id=79)\t\t\t\t\t\t\t\t\t\t\t\n",
        "^/Internode8\t\t\t(id=80)\t\t\t\t\t\t\t\t\t\t\t\n",
        "\t+Petiole8\t\t\t(id=81)\t\t\t\t\t\t\t\t\t\t\n",
        "\t^<Lamina8\t\t\t(id=82)\t\t\t\t\t\t\t\t\t\t\n",
        "^<Phytomer9\t\t\t(id=83)\t\t\t\t\t\t\t\t\t\t\t\n",
        "^/Internode9\t\t\t(id=84)\t\t\t\t\t\t\t\t\t\t\t\n",
        "\t+Petiole9\t\t\t(id=85)\t\t\t\t\t\t\t\t\t\t\n",
        "\t^<Lamina9\t\t\t(id=86)\t\t\t\t\t\t\t\t\t\t\n",
        "^<Phytomer10\t\t\t(id=87)\t\t\t\t\t\t\t\t\t\t\t\n",
        "^/Internode10\t\t\t(id=88)\t\t\t\t\t\t\t\t\t\t\t\n",
        "\t+Petiole10\t\t\t(id=89)\t\t\t\t\t\t\t\t\t\t\n",
        "\t^<Lamina10\t\t\t(id=90)\t\t\t\t\t\t\t\t\t\t\n",
        "^<Phytomer11\t\t\t(id=91)\t\t\t\t\t\t\t\t\t\t\t\n",
        "^/Internode11\t\t\t(id=92)\t\t\t\t\t\t\t\t\t\t\t\n",
        "\t+Petiole11\t\t\t(id=93)\t\t\t\t\t\t\t\t\t\t\n",
        "\t^<Lamina11\t\t\t(id=94)\t\t\t\t\t\t\t\t\t\t\n",
        "^<Phytomer12\t\t\t(id=95)\t\t\t\t\t\t\t\t\t\t\t\n",
        "^/Internode12\t\t\t(id=96)\t\t\t\t\t\t\t\t\t\t\t\n",
        "\t+Petiole12\t\t\t(id=97)\t\t\t\t\t\t\t\t\t\t\n",
        "\t^<Lamina12\t\t\t(id=98)\t\t\t\t\t\t\t\t\t\t\n"
       ]
      }
     ],
     "prompt_number": 7
    },
    {
     "cell_type": "heading",
     "level": 3,
     "metadata": {},
     "source": [
      "What are the vertices identifiers for the two plants 1 and 2?"
     ]
    },
    {
     "cell_type": "code",
     "collapsed": false,
     "input": [
      "plants = g.vertices(scale=1)\n",
      "plants"
     ],
     "language": "python",
     "metadata": {},
     "outputs": [
      {
       "metadata": {},
       "output_type": "pyout",
       "prompt_number": 8,
       "text": [
        "[1, 50]"
       ]
      }
     ],
     "prompt_number": 8
    },
    {
     "cell_type": "markdown",
     "metadata": {},
     "source": [
      "**View the plant at a given thermal time**:\n",
      "    * Construct the 3D representation\n",
      "    * visualise it"
     ]
    },
    {
     "cell_type": "code",
     "collapsed": false,
     "input": [
      "thermal_time = 400 # DDay\n",
      "# Scene construction\n",
      "scene = plant3d.plot3d_with_time(g,plants[0], time=thermal_time)\n",
      "\n",
      "# Visualisation\n",
      "Viewer.display(scene)\n",
      "display(PlantGL(scene))"
     ],
     "language": "python",
     "metadata": {},
     "outputs": [
      {
       "metadata": {},
       "output_type": "display_data",
       "png": "[encoded data removed]",
       "text": [
        "<IPython.core.display.Image at 0x110648950>"
       ]
      }
     ],
     "prompt_number": 9
    },
    {
     "cell_type": "markdown",
     "metadata": {},
     "source": [
      "**View the development of the first plant along a thermal time interval**:"
     ]
    },
    {
     "cell_type": "code",
     "collapsed": false,
     "input": [
      "for thermal_time in range(100,600, 100):\n",
      "    scene = plant3d.plot3d_with_time(g,plants[0], time=thermal_time)\n",
      "    Viewer.display(scene)\n",
      "    display(PlantGL(scene))"
     ],
     "language": "python",
     "metadata": {},
     "outputs": [
      {
       "metadata": {},
       "output_type": "display_data",
       "png": "[encoded data removed]",
       "text": [
        "<IPython.core.display.Image at 0x11066d390>"
       ]
      },
      {
       "metadata": {},
       "output_type": "display_data",
       "png": "[encoded data removed]",
       "text": [
        "<IPython.core.display.Image at 0x110689290>"
       ]
      },
      {
       "metadata": {},
       "output_type": "display_data",
       "png": "[encoded data removed]",
       "text": [
        "<IPython.core.display.Image at 0x110689590>"
       ]
      },
      {
       "metadata": {},
       "output_type": "display_data",
       "png": "[encoded data removed]",
       "text": [
        "<IPython.core.display.Image at 0x110673350>"
       ]
      },
      {
       "metadata": {},
       "output_type": "display_data",
       "png": "[encoded data removed]",
       "text": [
        "<IPython.core.display.Image at 0x110689490>"
       ]
      }
     ],
     "prompt_number": 10
    },
    {
     "cell_type": "heading",
     "level": 2,
     "metadata": {},
     "source": [
      "Light interception with Caribu model"
     ]
    },
    {
     "cell_type": "code",
     "collapsed": false,
     "input": [
      "from alinea.caribu.caribu_star import *"
     ],
     "language": "python",
     "metadata": {},
     "outputs": [],
     "prompt_number": 11
    },
    {
     "cell_type": "code",
     "collapsed": false,
     "input": [
      "plant3d.plot3d_with_time(g,plants[0], time=thermal_time)\n",
      "#compute star and exposed area based on the geometry\n",
      "caribu_light_star(g,light_sectors=1,convUnit=0.001)\n",
      "#star,exopsed_area=caribu_star(g.property('geometry'),convUnit=0.001)\n",
      "\n",
      "#pylab.hist(g.property('light_exposed_area').values())\n",
      "pylab.hist(g.property('light_star').values())\n",
      "g.property('light_star').values()"
     ],
     "language": "python",
     "metadata": {},
     "outputs": [
      {
       "output_type": "stream",
       "stream": "stdout",
       "text": [
        "defaultPO\n",
        ">>> Canestrad(): canestrad -M scene.can -l sky.light -p defaultPO.opt -A   -1     \n",
        "Remove tempfile /var/folders/5r/89j5wrwj08s6qtf8mdk4qtwh0000gn/T/tmpptQToT"
       ]
      },
      {
       "output_type": "stream",
       "stream": "stdout",
       "text": [
        "\n",
        "defaultPO\n",
        ">>> Canestrad(): canestrad -M scene.can -l sky.light -p defaultPO.opt -A   -1     \n",
        "Remove tempfile /var/folders/5r/89j5wrwj08s6qtf8mdk4qtwh0000gn/T/tmpSbHV0C"
       ]
      },
      {
       "output_type": "stream",
       "stream": "stdout",
       "text": [
        "\n"
       ]
      },
      {
       "metadata": {},
       "output_type": "pyout",
       "prompt_number": 38,
       "text": [
        "[0.02325283333333333,\n",
        " 0.0,\n",
        " 0.010588833333333332,\n",
        " 0.0004636663194334754,\n",
        " 0.001298000270842623,\n",
        " 0.00019666673634308288,\n",
        " 0.00847600179520771,\n",
        " 0.99838233324806669,\n",
        " 0.0,\n",
        " 0.00030516656292681654,\n",
        " 0.0,\n",
        " 0.3493670030542823]"
       ]
      },
      {
       "metadata": {},
       "output_type": "display_data",
       "png": "[encoded data removed]",
       "text": [
        "<matplotlib.figure.Figure at 0x112def050>"
       ]
      }
     ],
     "prompt_number": 38
    },
    {
     "cell_type": "code",
     "collapsed": false,
     "input": [
      "# Dataframe of results\n",
      "from openalea.mtg.plantframe import color\n",
      "g = color.colormap(g, 'light_star', lognorm=False)\n",
      "scene = plant3d.plot3d_with_time(g,plants[0], time=thermal_time)\n",
      "Viewer.display(scene)\n",
      "\n",
      "#set(g.class_name(v) for v in g.vertices(scale=2))\n",
      "\n",
      "#from openalea.mtg.dataframe import *\n",
      "#dataframe_g = to_dataframe(g)\n",
      "#dataframe_g[(dataframe_g.scale==g.max_scale())&(dataframe_g.order==1)]\n",
      "# Extract information on the MTG:\n",
      "# For each"
     ],
     "language": "python",
     "metadata": {},
     "outputs": [],
     "prompt_number": 54
    },
    {
     "cell_type": "heading",
     "level": 3,
     "metadata": {},
     "source": [
      "Project the information on the 3D model"
     ]
    },
    {
     "cell_type": "code",
     "collapsed": false,
     "input": [
      "from alinea.caribu.CaribuScene import CaribuScene\n",
      "import alinea.caribu.sky_tools.turtle as sky_turtle"
     ],
     "language": "python",
     "metadata": {},
     "outputs": [],
     "prompt_number": 41
    },
    {
     "cell_type": "code",
     "collapsed": false,
     "input": [
      "star\n"
     ],
     "language": "python",
     "metadata": {},
     "outputs": [
      {
       "metadata": {},
       "output_type": "pyout",
       "prompt_number": 39,
       "text": [
        "{5: 0.02325283333333333,\n",
        " 9: 0.0,\n",
        " 13: 0.010588833333333332,\n",
        " 17: 0.0004636663194334754,\n",
        " 21: 0.001298000270842623,\n",
        " 25: 0.00019666673634308288,\n",
        " 29: 0.00847600179520771,\n",
        " 33: 0.99838233324806669,\n",
        " 37: 0.0,\n",
        " 41: 0.00030516656292681654,\n",
        " 45: 0.0,\n",
        " 49: 0.3493670030542823}"
       ]
      }
     ],
     "prompt_number": 39
    },
    {
     "cell_type": "code",
     "collapsed": false,
     "input": [
      "energy, emission, direction, elevation , azimuth  = sky_turtle.turtle(sectors=1)\n",
      "lights = zip(energy,direction)\n",
      "c_scene = CaribuScene()\n",
      "idmap = c_scene.add_Shapes(scene)\n",
      "#idmap = c_scene.add_Shapes(lscene)\n",
      "c_scene.addSources(lights)\n",
      "output = c_scene.runCaribu(infinity=False)\n",
      "einc=c_scene.output_by_id(output, idmap)['Einc']\n",
      "g.property('light_star').update(einc)"
     ],
     "language": "python",
     "metadata": {},
     "outputs": [
      {
       "output_type": "stream",
       "stream": "stdout",
       "text": [
        "defaultPO\n",
        ">>> Canestrad(): canestrad -M scene.can -l sky.light -p defaultPO.opt -A   -1     \n",
        "Remove tempfile /var/folders/5r/89j5wrwj08s6qtf8mdk4qtwh0000gn/T/tmpVFRIAl"
       ]
      },
      {
       "output_type": "stream",
       "stream": "stdout",
       "text": [
        "\n"
       ]
      }
     ],
     "prompt_number": 52
    },
    {
     "cell_type": "code",
     "collapsed": false,
     "input": [
      "color.colorbar(g, 'light_star', lognorm=False)\n",
      "lights"
     ],
     "language": "python",
     "metadata": {},
     "outputs": [
      {
       "metadata": {},
       "output_type": "display_data",
       "png": "[encoded data removed]",
       "text": [
        "<matplotlib.figure.Figure at 0x10c643350>"
       ]
      },
      {
       "metadata": {},
       "output_type": "pyout",
       "prompt_number": 50,
       "text": [
        "[(1.0, (0.0, 0.0, -1.0))]"
       ]
      }
     ],
     "prompt_number": 50
    },
    {
     "cell_type": "code",
     "collapsed": false,
     "input": [],
     "language": "python",
     "metadata": {},
     "outputs": []
    }
   ],
   "metadata": {}
  }
 ]
}